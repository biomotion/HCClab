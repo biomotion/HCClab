{
 "cells": [
  {
   "cell_type": "markdown",
   "metadata": {},
   "source": [
    "# HCC HW assignment 1"
   ]
  },
  {
   "cell_type": "markdown",
   "metadata": {},
   "source": [
    "### Itertive"
   ]
  },
  {
   "cell_type": "markdown",
   "metadata": {},
   "source": [
    "Here we define the iterative version of fibonacci series"
   ]
  },
  {
   "cell_type": "code",
   "execution_count": 2,
   "metadata": {},
   "outputs": [],
   "source": [
    "def fibonacci_iterative(n=None):\n",
    "    fib_series = [0, 1]\n",
    "    for i in range(n-1):\n",
    "        fib_series.append(fib_series[-2] + fib_series[-1])\n",
    "    return fib_series[n]"
   ]
  },
  {
   "cell_type": "code",
   "execution_count": 5,
   "metadata": {},
   "outputs": [
    {
     "name": "stdout",
     "output_type": "stream",
     "text": [
      "fibonacci[ 0 ] = 0\n",
      "fibonacci[ 1 ] = 1\n",
      "fibonacci[ 2 ] = 1\n",
      "fibonacci[ 3 ] = 2\n",
      "fibonacci[ 4 ] = 3\n",
      "fibonacci[ 5 ] = 5\n",
      "fibonacci[ 6 ] = 8\n",
      "fibonacci[ 7 ] = 13\n",
      "fibonacci[ 8 ] = 21\n",
      "fibonacci[ 9 ] = 34\n"
     ]
    }
   ],
   "source": [
    "for a in range(10):\n",
    "    print\"fibonacci[\", a, \"] =\", fibonacci_iterative(a)"
   ]
  },
  {
   "cell_type": "markdown",
   "metadata": {},
   "source": [
    "### Recursive"
   ]
  },
  {
   "cell_type": "markdown",
   "metadata": {},
   "source": [
    "Here is the recursive version of fibonacci series"
   ]
  },
  {
   "cell_type": "code",
   "execution_count": 10,
   "metadata": {},
   "outputs": [],
   "source": [
    "def fibonacci_recursive(n=None):\n",
    "    if n < 2:\n",
    "        return n\n",
    "    else:\n",
    "        return fibonacci_recursive(n-1)+ fibonacci_recursive(n-2)"
   ]
  },
  {
   "cell_type": "code",
   "execution_count": 11,
   "metadata": {},
   "outputs": [
    {
     "name": "stdout",
     "output_type": "stream",
     "text": [
      "fibonacci[ 0 ] = 0\n",
      "fibonacci[ 1 ] = 1\n",
      "fibonacci[ 2 ] = 1\n",
      "fibonacci[ 3 ] = 2\n",
      "fibonacci[ 4 ] = 3\n",
      "fibonacci[ 5 ] = 5\n",
      "fibonacci[ 6 ] = 8\n",
      "fibonacci[ 7 ] = 13\n",
      "fibonacci[ 8 ] = 21\n",
      "fibonacci[ 9 ] = 34\n"
     ]
    }
   ],
   "source": [
    "for a in range(10):\n",
    "    print\"fibonacci[\", a, \"] =\", fibonacci_recursive(a)"
   ]
  }
 ],
 "metadata": {
  "kernelspec": {
   "display_name": "Python 2",
   "language": "python",
   "name": "python2"
  },
  "language_info": {
   "codemirror_mode": {
    "name": "ipython",
    "version": 2
   },
   "file_extension": ".py",
   "mimetype": "text/x-python",
   "name": "python",
   "nbconvert_exporter": "python",
   "pygments_lexer": "ipython2",
   "version": "2.7.12"
  }
 },
 "nbformat": 4,
 "nbformat_minor": 2
}
